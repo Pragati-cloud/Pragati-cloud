{
  "cells": [
    {
      "cell_type": "markdown",
      "metadata": {
        "id": "view-in-github",
        "colab_type": "text"
      },
      "source": [
        "<a href=\"https://colab.research.google.com/github/Pragati-cloud/Pragati-cloud/blob/main/templates/aistudio_gemini_prompt_freeform.ipynb\" target=\"_parent\"><img src=\"https://colab.research.google.com/assets/colab-badge.svg\" alt=\"Open In Colab\"/></a>"
      ]
    },
    {
      "cell_type": "markdown",
      "metadata": {
        "id": "Tce3stUlHN0L"
      },
      "source": [
        "##### Copyright 2023 Google LLC"
      ]
    },
    {
      "cell_type": "code",
      "execution_count": null,
      "metadata": {
        "cellView": "form",
        "id": "tuOe1ymfHZPu"
      },
      "outputs": [],
      "source": [
        "# @title Licensed under the Apache License, Version 2.0 (the \"License\");\n",
        "# you may not use this file except in compliance with the License.\n",
        "# You may obtain a copy of the License at\n",
        "#\n",
        "# https://www.apache.org/licenses/LICENSE-2.0\n",
        "#\n",
        "# Unless required by applicable law or agreed to in writing, software\n",
        "# distributed under the License is distributed on an \"AS IS\" BASIS,\n",
        "# WITHOUT WARRANTIES OR CONDITIONS OF ANY KIND, either express or implied.\n",
        "# See the License for the specific language governing permissions and\n",
        "# limitations under the License."
      ]
    },
    {
      "cell_type": "markdown",
      "metadata": {
        "id": "FKwyTRdwB8aW"
      },
      "source": [
        "## Setup"
      ]
    },
    {
      "cell_type": "markdown",
      "metadata": {
        "id": "rlE8UqxrDIez"
      },
      "source": [
        "### Install & import"
      ]
    },
    {
      "cell_type": "code",
      "execution_count": null,
      "metadata": {
        "id": "RXInneX6xx7c"
      },
      "outputs": [],
      "source": [
        "!pip install -U -q google-generativeai"
      ]
    },
    {
      "cell_type": "code",
      "execution_count": 1,
      "metadata": {
        "id": "kWIuwKG2_oWE"
      },
      "outputs": [],
      "source": [
        "# Install the client library and import necessary modules.\n",
        "import google.generativeai as genai\n",
        "\n",
        "import base64\n",
        "import copy\n",
        "import hashlib\n",
        "import io\n",
        "import json\n",
        "import mimetypes\n",
        "import pathlib\n",
        "import pprint\n",
        "import requests\n",
        "\n",
        "\n",
        "import PIL.Image\n",
        "import IPython.display\n",
        "from IPython.display import Markdown"
      ]
    },
    {
      "cell_type": "markdown",
      "metadata": {
        "id": "Fet3lFjdKHEM"
      },
      "source": [
        "## Set the API key"
      ]
    },
    {
      "cell_type": "markdown",
      "metadata": {
        "id": "ZoRWILAtCzBE"
      },
      "source": [
        "Add your API_KEY to the secrets manager in the left panel \"🔑\"."
      ]
    },
    {
      "cell_type": "code",
      "execution_count": 2,
      "metadata": {
        "id": "LaLCwNlkCyQd",
        "colab": {
          "base_uri": "https://localhost:8080/",
          "height": 297
        },
        "outputId": "46d1d5b7-7eb2-46d6-b823-bfdded337882"
      },
      "outputs": [
        {
          "output_type": "error",
          "ename": "SecretNotFoundError",
          "evalue": "Secret GOOGLE_API_KEY does not exist.",
          "traceback": [
            "\u001b[0;31m---------------------------------------------------------------------------\u001b[0m",
            "\u001b[0;31mSecretNotFoundError\u001b[0m                       Traceback (most recent call last)",
            "\u001b[0;32m<ipython-input-2-321f70020e6b>\u001b[0m in \u001b[0;36m<cell line: 3>\u001b[0;34m()\u001b[0m\n\u001b[1;32m      1\u001b[0m \u001b[0;32mfrom\u001b[0m \u001b[0mgoogle\u001b[0m\u001b[0;34m.\u001b[0m\u001b[0mcolab\u001b[0m \u001b[0;32mimport\u001b[0m \u001b[0muserdata\u001b[0m\u001b[0;34m\u001b[0m\u001b[0;34m\u001b[0m\u001b[0m\n\u001b[1;32m      2\u001b[0m \u001b[0;34m\u001b[0m\u001b[0m\n\u001b[0;32m----> 3\u001b[0;31m \u001b[0mGOOGLE_API_KEY\u001b[0m \u001b[0;34m=\u001b[0m \u001b[0muserdata\u001b[0m\u001b[0;34m.\u001b[0m\u001b[0mget\u001b[0m\u001b[0;34m(\u001b[0m\u001b[0;34m\"GOOGLE_API_KEY\"\u001b[0m\u001b[0;34m)\u001b[0m\u001b[0;34m\u001b[0m\u001b[0;34m\u001b[0m\u001b[0m\n\u001b[0m",
            "\u001b[0;32m/usr/local/lib/python3.10/dist-packages/google/colab/userdata.py\u001b[0m in \u001b[0;36mget\u001b[0;34m(key)\u001b[0m\n\u001b[1;32m     66\u001b[0m     \u001b[0;32mraise\u001b[0m \u001b[0mTimeoutException\u001b[0m\u001b[0;34m(\u001b[0m\u001b[0mkey\u001b[0m\u001b[0;34m)\u001b[0m\u001b[0;34m\u001b[0m\u001b[0;34m\u001b[0m\u001b[0m\n\u001b[1;32m     67\u001b[0m   \u001b[0;32mif\u001b[0m \u001b[0;32mnot\u001b[0m \u001b[0mresp\u001b[0m\u001b[0;34m.\u001b[0m\u001b[0mget\u001b[0m\u001b[0;34m(\u001b[0m\u001b[0;34m'exists'\u001b[0m\u001b[0;34m,\u001b[0m \u001b[0;32mFalse\u001b[0m\u001b[0;34m)\u001b[0m\u001b[0;34m:\u001b[0m\u001b[0;34m\u001b[0m\u001b[0;34m\u001b[0m\u001b[0m\n\u001b[0;32m---> 68\u001b[0;31m     \u001b[0;32mraise\u001b[0m \u001b[0mSecretNotFoundError\u001b[0m\u001b[0;34m(\u001b[0m\u001b[0mkey\u001b[0m\u001b[0;34m)\u001b[0m\u001b[0;34m\u001b[0m\u001b[0;34m\u001b[0m\u001b[0m\n\u001b[0m\u001b[1;32m     69\u001b[0m   \u001b[0;32mif\u001b[0m \u001b[0;32mnot\u001b[0m \u001b[0mresp\u001b[0m\u001b[0;34m.\u001b[0m\u001b[0mget\u001b[0m\u001b[0;34m(\u001b[0m\u001b[0;34m'access'\u001b[0m\u001b[0;34m,\u001b[0m \u001b[0;32mFalse\u001b[0m\u001b[0;34m)\u001b[0m\u001b[0;34m:\u001b[0m\u001b[0;34m\u001b[0m\u001b[0;34m\u001b[0m\u001b[0m\n\u001b[1;32m     70\u001b[0m     \u001b[0;32mraise\u001b[0m \u001b[0mNotebookAccessError\u001b[0m\u001b[0;34m(\u001b[0m\u001b[0mkey\u001b[0m\u001b[0;34m)\u001b[0m\u001b[0;34m\u001b[0m\u001b[0;34m\u001b[0m\u001b[0m\n",
            "\u001b[0;31mSecretNotFoundError\u001b[0m: Secret GOOGLE_API_KEY does not exist."
          ]
        }
      ],
      "source": [
        "from google.colab import userdata\n",
        "\n",
        "GOOGLE_API_KEY = userdata.get(\"GOOGLE_API_KEY\")"
      ]
    },
    {
      "cell_type": "code",
      "execution_count": null,
      "metadata": {
        "id": "_SvYoR3WCeKr"
      },
      "outputs": [],
      "source": [
        "# Configure the client library by providing your API key.\n",
        "genai.configure(api_key=GOOGLE_API_KEY)"
      ]
    },
    {
      "cell_type": "markdown",
      "metadata": {
        "id": "weo-o73WDpdm"
      },
      "source": [
        "## Parse the arguments"
      ]
    },
    {
      "cell_type": "code",
      "execution_count": 3,
      "metadata": {
        "id": "uIog-0SyDuIF"
      },
      "outputs": [],
      "source": [
        "model = 'gemini-1.5-flash' # @param {isTemplate: true}\n",
        "contents_b64 = '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' # @param {isTemplate: true}\n",
        "generation_config_b64 = 'eyJ0ZW1wZXJhdHVyZSI6MSwidG9wX3AiOjAuOTUsInRvcF9rIjo2NCwibWF4X291dHB1dF90b2tlbnMiOjgxOTJ9' # @param {isTemplate: true}\n",
        "safety_settings_b64 = \"e30=\"  # @param {isTemplate: true}\n",
        "\n",
        "gais_contents = json.loads(base64.b64decode(contents_b64))\n",
        "\n",
        "generation_config = json.loads(base64.b64decode(generation_config_b64))\n",
        "safety_settings = json.loads(base64.b64decode(safety_settings_b64))\n",
        "\n",
        "stream = False"
      ]
    },
    {
      "cell_type": "code",
      "execution_count": 4,
      "metadata": {
        "id": "RkbnEEIFEHFi",
        "colab": {
          "base_uri": "https://localhost:8080/"
        },
        "outputId": "d379d9b7-a882-47bf-fd53-fdccf57db50f"
      },
      "outputs": [
        {
          "output_type": "execute_result",
          "data": {
            "text/plain": [
              "[{'role': 'user',\n",
              "  'parts': [{'text': 'Create a web app called Portfolio\\\\n1.navigation bar containing project , contact me , services.\\\\n2. It should be black in blue in color , background should contain an astronout picture .\\\\n\\\\n4. It should be a single HTML file, with no separate JS or CSS files.\\\\n5. It should say rights reserved in the footer.\\\\n6. Do not use any unicode characters.'}]},\n",
              " {'role': 'model',\n",
              "  'parts': [{'text': '```html\\\\n<!DOCTYPE html>\\\\n<html>\\\\n<head>\\\\n<title>Portfolio</title>\\\\n<style>\\\\nbody {\\\\n  background-image: url(\\\\\"https://images.unsplash.com/photo-1636571091212-1c0647e04115?ixlib=rb-4.0.3&ixid=M3wxMjA3fDB8MHxzZWFyY2h8Mnx8YXN0cm9uYXUgfHxlbnwwfHwwfHw%3D&auto=format&fit=crop&w=500&q=60\\\\\"); /* Replace with your astronaut image URL */\\\\n  background-size: cover;\\\\n  background-repeat: no-repeat;\\\\n  color: white;\\\\n  font-family: sans-serif;\\\\n  margin: 0;\\\\n}\\\\n\\\\n.container {\\\\n  max-width: 800px;\\\\n  margin: 0 auto;\\\\n  padding: 20px;\\\\n}\\\\n\\\\nheader {\\\\n  background-color: #00264d;\\\\n  padding: 20px 0;\\\\n  text-align: center;\\\\n}\\\\n\\\\nnav ul {\\\\n  list-style: none;\\\\n  margin: 0;\\\\n  padding: 0;\\\\n}\\\\n\\\\nnav li {\\\\n  display: inline-block;\\\\n  margin: 0 10px;\\\\n}\\\\n\\\\nnav a {\\\\n  color: white;\\\\n  text-decoration: none;\\\\n  padding: 5px 10px;\\\\n  border-radius: 5px;\\\\n  transition: background-color 0.3s;\\\\n}\\\\n\\\\nnav a:hover {\\\\n  background-color: #004080;\\\\n}\\\\n\\\\nfooter {\\\\n  background-color: #00264d;\\\\n  padding: 10px 0;\\\\n  text-align: center;\\\\n  position: fixed;\\\\n  bottom: 0;\\\\n  width: 100%;\\\\n}\\\\n\\\\n</style>\\\\n</head>\\\\n<body>\\\\n\\\\n<header>\\\\n  <h1>My Portfolio</h1>\\\\n</header>\\\\n\\\\n<div class=\\\\\"container\\\\\">\\\\n\\\\n  <nav>\\\\n    <ul>\\\\n      <li><a href=\\\\\"#\\\\\">Projects</a></li>\\\\n      <li><a href=\\\\\"#\\\\\">Contact Me</a></li>\\\\n      <li><a href=\\\\\"#\\\\\">Services</a></li>\\\\n    </ul>\\\\n  </nav>\\\\n\\\\n  <main>\\\\n    <!-- Your portfolio content here -->\\\\n  </main>\\\\n\\\\n</div>\\\\n\\\\n<footer>\\\\n  &copy; 2023 All Rights Reserved.\\\\n</footer>\\\\n\\\\n</body>\\\\n</html>\\\\n```\\\\n\\\\n**Explanation:**\\\\n\\\\n1. **HTML Structure:**\\\\n   - Basic HTML structure with `head` and `body` elements.\\\\n   - `header` for the title and navigation.\\\\n   - `nav` for the navigation bar.\\\\n   - `main` for your portfolio content (add your actual content here).\\\\n   - `footer` for copyright information.\\\\n\\\\n2. **CSS Styling:**\\\\n   - **`body`:**\\\\n     - Sets background image using `url()`. Replace the placeholder URL with your actual astronaut image URL.\\\\n     - Sets background size and repeat.\\\\n     - Sets text color to white.\\\\n     - Sets font family to sans-serif.\\\\n     - Removes default margins.\\\\n   - **`.container`:**\\\\n     - Sets maximum width for content.\\\\n     - Centers the content horizontally.\\\\n     - Adds padding for spacing.\\\\n   - **`header`:**\\\\n     - Sets a dark blue background color.\\\\n     - Adds padding and centers the text.\\\\n   - **`nav`:**\\\\n     - Removes list bullets.\\\\n     - Sets display to inline-block for horizontal navigation.\\\\n   - **`nav li`:**\\\\n     - Adds margin between navigation items.\\\\n   - **`nav a`:**\\\\n     - Sets text color to white.\\\\n     - Removes underlines.\\\\n     - Adds padding and rounded corners.\\\\n     - Adds a hover effect to change background color.\\\\n   - **`footer`:**\\\\n     - Sets a dark blue background color.\\\\n     - Adds padding and centers the text.\\\\n     - Fixes it to the bottom of the screen.\\\\n     - Makes it full width.\\\\n\\\\n3. **Content:**\\\\n   - Replace the comment `<!-- Your portfolio content here -->` with your actual portfolio content, such as project descriptions, skills, or contact information.\\\\n\\\\n4. **Placeholders:**\\\\n   - Remember to replace the placeholder astronaut image URL with your actual image URL.\\\\n\\\\n**To use this code:**\\\\n\\\\n1. **Create a new HTML file:** Save the code above as an HTML file (e.g., `portfolio.html`).\\\\n2. **Replace the placeholder image URL:** Find the line with `background-image: url()` and replace the placeholder URL with the URL of your astronaut image.\\\\n3. **Add your content:** Replace the `<!-- Your portfolio content here -->` comment with your actual portfolio information.\\\\n4. **Open the HTML file in a web browser:** You can now view your portfolio website in the browser.\\\\n\\\\nThis will give you a simple, black and blue portfolio website with an astronaut background. Remember to customize it further to reflect your own style and content!\\\\n'}]}]"
            ]
          },
          "metadata": {},
          "execution_count": 4
        }
      ],
      "source": [
        "gais_contents"
      ]
    },
    {
      "cell_type": "code",
      "execution_count": 5,
      "metadata": {
        "id": "ca3e641ee9d3",
        "colab": {
          "base_uri": "https://localhost:8080/"
        },
        "outputId": "f1c54e42-d7b1-4bf2-9fa0-38102759d12b"
      },
      "outputs": [
        {
          "output_type": "execute_result",
          "data": {
            "text/plain": [
              "{'temperature': 1, 'top_p': 0.95, 'top_k': 64, 'max_output_tokens': 8192}"
            ]
          },
          "metadata": {},
          "execution_count": 5
        }
      ],
      "source": [
        "generation_config"
      ]
    },
    {
      "cell_type": "code",
      "execution_count": 6,
      "metadata": {
        "id": "11ce12f5bbac",
        "colab": {
          "base_uri": "https://localhost:8080/"
        },
        "outputId": "37a74461-0eb7-4a59-8bf9-e07b278df7c8"
      },
      "outputs": [
        {
          "output_type": "execute_result",
          "data": {
            "text/plain": [
              "{}"
            ]
          },
          "metadata": {},
          "execution_count": 6
        }
      ],
      "source": [
        "safety_settings"
      ]
    },
    {
      "cell_type": "markdown",
      "metadata": {
        "id": "F91AeeGO1ncU"
      },
      "source": [
        "## [optional] Show the conversation\n",
        "\n",
        "This section displays the conversation received from Google AI Studio."
      ]
    },
    {
      "cell_type": "code",
      "execution_count": 7,
      "metadata": {
        "id": "yoL3p3KPylFW"
      },
      "outputs": [],
      "source": [
        "# @title `show_file` function\n",
        "drive = None\n",
        "def show_file(file_data):\n",
        "    mime_type = file_data[\"mime_type\"]\n",
        "\n",
        "    if drive_id := file_data.get(\"drive_id\", None):\n",
        "        if drive is None:\n",
        "          from google.colab import drive\n",
        "          drive.mount(\"/gdrive\")\n",
        "        path = next(\n",
        "            pathlib.Path(f\"/gdrive/.shortcut-targets-by-id/{drive_id}\").glob(\"*\")\n",
        "        )\n",
        "        name = path\n",
        "        # data = path.read_bytes()\n",
        "        kwargs = {\"filename\": path}\n",
        "    elif url := file_data.get(\"url\", None):\n",
        "        name = url\n",
        "        kwargs = {\"url\": url}\n",
        "        # response = requests.get(url)\n",
        "        # data = response.content\n",
        "    elif data := file_data.get(\"inline_data\", None):\n",
        "        name = None\n",
        "        kwargs = {\"data\": data}\n",
        "    elif name := file_data.get(\"filename\", None):\n",
        "        if not pathlib.Path(name).exists():\n",
        "            raise IOError(\n",
        "                f\"local file: `{name}` does not exist. You can upload files to \"\n",
        "                'Colab using the file manager (\"📁 Files\"in the left toolbar)'\n",
        "            )\n",
        "    else:\n",
        "        raise ValueError(\"Either `drive_id`, `url` or `inline_data` must be provided.\")\n",
        "\n",
        "        print(f\"File:\\n    name: {name}\\n    mime_type: {mime_type}\\n\")\n",
        "        return\n",
        "\n",
        "    format = mimetypes.guess_extension(mime_type).strip(\".\")\n",
        "    if mime_type.startswith(\"image/\"):\n",
        "        image = IPython.display.Image(**kwargs, width=256)\n",
        "        IPython.display.display(image)\n",
        "        print()\n",
        "        return\n",
        "\n",
        "    if mime_type.startswith(\"audio/\"):\n",
        "        if len(data) < 2**12:\n",
        "            audio = IPython.display.Audio(**kwargs)\n",
        "            IPython.display.display(audio)\n",
        "            print()\n",
        "            return\n",
        "\n",
        "    if mime_type.startswith(\"video/\"):\n",
        "        if len(data) < 2**12:\n",
        "            audio = IPython.display.Video(**kwargs, mimetype=mime_type)\n",
        "            IPython.display.display(audio)\n",
        "            print()\n",
        "            return\n",
        "\n",
        "    print(f\"File:\\n    name: {name}\\n    mime_type: {mime_type}\\n\")"
      ]
    },
    {
      "cell_type": "code",
      "execution_count": 8,
      "metadata": {
        "id": "o9D5UdhL8MTk",
        "colab": {
          "base_uri": "https://localhost:8080/"
        },
        "outputId": "16e7ce0e-665d-417e-db3f-23896d2e974d"
      },
      "outputs": [
        {
          "output_type": "stream",
          "name": "stdout",
          "text": [
            "Role: user \n",
            "\n",
            "Create a web app called Portfolio\\n1.navigation bar containing project , contact me , services.\\n2. It should be black in blue in color , background should contain an astronout picture .\\n\\n4. It should be a single HTML file, with no separate JS or CSS files.\\n5. It should say rights reserved in the footer.\\n6. Do not use any unicode characters. \n",
            "\n",
            "-------------------------------------------------------------------------------- \n",
            "\n",
            "Role: model \n",
            "\n",
            "```html\\n<!DOCTYPE html>\\n<html>\\n<head>\\n<title>Portfolio</title>\\n<style>\\nbody {\\n  background-image: url(\\\"https://images.unsplash.com/photo-1636571091212-1c0647e04115?ixlib=rb-4.0.3&ixid=M3wxMjA3fDB8MHxzZWFyY2h8Mnx8YXN0cm9uYXUgfHxlbnwwfHwwfHw%3D&auto=format&fit=crop&w=500&q=60\\\"); /* Replace with your astronaut image URL */\\n  background-size: cover;\\n  background-repeat: no-repeat;\\n  color: white;\\n  font-family: sans-serif;\\n  margin: 0;\\n}\\n\\n.container {\\n  max-width: 800px;\\n  margin: 0 auto;\\n  padding: 20px;\\n}\\n\\nheader {\\n  background-color: #00264d;\\n  padding: 20px 0;\\n  text-align: center;\\n}\\n\\nnav ul {\\n  list-style: none;\\n  margin: 0;\\n  padding: 0;\\n}\\n\\nnav li {\\n  display: inline-block;\\n  margin: 0 10px;\\n}\\n\\nnav a {\\n  color: white;\\n  text-decoration: none;\\n  padding: 5px 10px;\\n  border-radius: 5px;\\n  transition: background-color 0.3s;\\n}\\n\\nnav a:hover {\\n  background-color: #004080;\\n}\\n\\nfooter {\\n  background-color: #00264d;\\n  padding: 10px 0;\\n  text-align: center;\\n  position: fixed;\\n  bottom: 0;\\n  width: 100%;\\n}\\n\\n</style>\\n</head>\\n<body>\\n\\n<header>\\n  <h1>My Portfolio</h1>\\n</header>\\n\\n<div class=\\\"container\\\">\\n\\n  <nav>\\n    <ul>\\n      <li><a href=\\\"#\\\">Projects</a></li>\\n      <li><a href=\\\"#\\\">Contact Me</a></li>\\n      <li><a href=\\\"#\\\">Services</a></li>\\n    </ul>\\n  </nav>\\n\\n  <main>\\n    <!-- Your portfolio content here -->\\n  </main>\\n\\n</div>\\n\\n<footer>\\n  &copy; 2023 All Rights Reserved.\\n</footer>\\n\\n</body>\\n</html>\\n```\\n\\n**Explanation:**\\n\\n1. **HTML Structure:**\\n   - Basic HTML structure with `head` and `body` elements.\\n   - `header` for the title and navigation.\\n   - `nav` for the navigation bar.\\n   - `main` for your portfolio content (add your actual content here).\\n   - `footer` for copyright information.\\n\\n2. **CSS Styling:**\\n   - **`body`:**\\n     - Sets background image using `url()`. Replace the placeholder URL with your actual astronaut image URL.\\n     - Sets background size and repeat.\\n     - Sets text color to white.\\n     - Sets font family to sans-serif.\\n     - Removes default margins.\\n   - **`.container`:**\\n     - Sets maximum width for content.\\n     - Centers the content horizontally.\\n     - Adds padding for spacing.\\n   - **`header`:**\\n     - Sets a dark blue background color.\\n     - Adds padding and centers the text.\\n   - **`nav`:**\\n     - Removes list bullets.\\n     - Sets display to inline-block for horizontal navigation.\\n   - **`nav li`:**\\n     - Adds margin between navigation items.\\n   - **`nav a`:**\\n     - Sets text color to white.\\n     - Removes underlines.\\n     - Adds padding and rounded corners.\\n     - Adds a hover effect to change background color.\\n   - **`footer`:**\\n     - Sets a dark blue background color.\\n     - Adds padding and centers the text.\\n     - Fixes it to the bottom of the screen.\\n     - Makes it full width.\\n\\n3. **Content:**\\n   - Replace the comment `<!-- Your portfolio content here -->` with your actual portfolio content, such as project descriptions, skills, or contact information.\\n\\n4. **Placeholders:**\\n   - Remember to replace the placeholder astronaut image URL with your actual image URL.\\n\\n**To use this code:**\\n\\n1. **Create a new HTML file:** Save the code above as an HTML file (e.g., `portfolio.html`).\\n2. **Replace the placeholder image URL:** Find the line with `background-image: url()` and replace the placeholder URL with the URL of your astronaut image.\\n3. **Add your content:** Replace the `<!-- Your portfolio content here -->` comment with your actual portfolio information.\\n4. **Open the HTML file in a web browser:** You can now view your portfolio website in the browser.\\n\\nThis will give you a simple, black and blue portfolio website with an astronaut background. Remember to customize it further to reflect your own style and content!\\n \n",
            "\n",
            "-------------------------------------------------------------------------------- \n",
            "\n"
          ]
        }
      ],
      "source": [
        "for content in gais_contents:\n",
        "    if role := content.get(\"role\", None):\n",
        "        print(\"Role:\", role, \"\\n\")\n",
        "\n",
        "    for n, part in enumerate(content[\"parts\"]):\n",
        "        if text := part.get(\"text\", None):\n",
        "            print(text, \"\\n\")\n",
        "\n",
        "        elif file_data := part.get(\"file_data\", None):\n",
        "            show_file(file_data)\n",
        "\n",
        "    print(\"-\" * 80, \"\\n\")"
      ]
    },
    {
      "cell_type": "markdown",
      "metadata": {
        "id": "0F6SKiuo88LQ"
      },
      "source": [
        "## Convert & upload files\n",
        "\n",
        "For each file, Google AI Studio either sent:\n",
        "- a Google Drive IDs\n",
        "- a URL, or\n",
        "- the raw bytes (`inline_data`).\n",
        "\n",
        "The API itself onlty understands two ways of sending files:\n",
        "\n",
        "- `inline_data` - where the bytes are placed inline in the request.\n",
        "- `file_data` - where the file is uploaded to the Files API, and you pass a reference to that file.\n",
        "\n",
        "This section goes through the `contents` from Google AI Studio, and uploads the file data, to the Files API, so Gemini can access it:"
      ]
    },
    {
      "cell_type": "code",
      "execution_count": null,
      "metadata": {
        "id": "_wJAs_ZfuwCq"
      },
      "outputs": [],
      "source": [
        "# @title `upload_file` function\n",
        "\n",
        "tempfiles = pathlib.Path(f\"tempfiles\")\n",
        "tempfiles.mkdir(parents=True, exist_ok=True)\n",
        "\n",
        "drive = None\n",
        "def upload_file_data(file_data):\n",
        "    mime_type = file_data[\"mime_type\"]\n",
        "    if drive_id := file_data.pop(\"drive_id\", None):\n",
        "        if drive is None:\n",
        "          from google.colab import drive\n",
        "          drive.mount(\"/gdrive\")\n",
        "\n",
        "        path = next(\n",
        "            pathlib.Path(f\"/gdrive/.shortcut-targets-by-id/{drive_id}\").glob(\"*\")\n",
        "        )\n",
        "        print(\"Uploading:\", str(path))\n",
        "        file_info = genai.upload_file(path=path, mime_type=mime_type)\n",
        "        file_data[\"file_uri\"] = file_info.uri\n",
        "        return\n",
        "\n",
        "    if url := file_data.pop(\"url\", None):\n",
        "        response = requests.get(url)\n",
        "        data = response.content\n",
        "        name = url.split(\"/\")[-1]\n",
        "        hash = hashlib.sha256(data).hexdigest()\n",
        "        path = tempfiles / hash\n",
        "        path.write_bytes(data)\n",
        "        print(\"Uploading:\", url)\n",
        "        file_info = genai.upload_file(path, display_name=name, mime_type=mime_type)\n",
        "        file_data[\"file_uri\"] = file_info.uri\n",
        "        return\n",
        "\n",
        "    if name := file_data.get(\"filename\", None):\n",
        "        if not pathlib.Path(name).exists():\n",
        "            raise IOError(\n",
        "                f\"local file: `{name}` does not exist. You can upload files \"\n",
        "                'to Colab using the file manager (\"📁 Files\"in the left '\n",
        "                \"toolbar)\"\n",
        "            )\n",
        "        file_info = genai.upload_file(path, display_name=name, mime_type=mime_type)\n",
        "        file_data[\"file_uri\"] = file_info.uri\n",
        "        return\n",
        "\n",
        "    if \"inline_data\" in file_data:\n",
        "        return\n",
        "\n",
        "    raise ValueError(\"Either `drive_id`, `url` or `inline_data` must be provided.\")"
      ]
    },
    {
      "cell_type": "code",
      "execution_count": null,
      "metadata": {
        "id": "8TehY-utE3OR"
      },
      "outputs": [],
      "source": [
        "contents = copy.deepcopy(gais_contents)\n",
        "\n",
        "for content in contents:\n",
        "    for n, part in enumerate(content[\"parts\"]):\n",
        "        if file_data := part.get(\"file_data\", None):\n",
        "            upload_file_data(file_data)"
      ]
    },
    {
      "cell_type": "markdown",
      "metadata": {
        "id": "EUFIM-r39cuc"
      },
      "source": [
        "Here is the coverted `Content`s:"
      ]
    },
    {
      "cell_type": "code",
      "execution_count": null,
      "metadata": {
        "id": "oJ-sPFRSxdQg"
      },
      "outputs": [],
      "source": [
        "contents"
      ]
    },
    {
      "cell_type": "markdown",
      "metadata": {
        "id": "E7zAD69vE92b"
      },
      "source": [
        "## Call `generate_content`"
      ]
    },
    {
      "cell_type": "code",
      "execution_count": null,
      "metadata": {
        "id": "LB2LxPmAB95V"
      },
      "outputs": [],
      "source": [
        "# Call the model and print the response.\n",
        "gemini = genai.GenerativeModel(model_name=model)\n",
        "\n",
        "response = gemini.generate_content(\n",
        "    contents,\n",
        "    generation_config=generation_config,\n",
        "    safety_settings=safety_settings,\n",
        "    stream=False,\n",
        ")"
      ]
    },
    {
      "cell_type": "code",
      "execution_count": null,
      "metadata": {
        "id": "Lm3RXwYuGtZK"
      },
      "outputs": [],
      "source": [
        "if generation_config.get(\"candidate_count\", 1) == 1:\n",
        "    display(Markdown(response.text))"
      ]
    },
    {
      "cell_type": "code",
      "execution_count": null,
      "metadata": {
        "id": "HjT4jtJc2aAk"
      },
      "outputs": [],
      "source": [
        "response.candidates"
      ]
    },
    {
      "cell_type": "markdown",
      "metadata": {
        "id": "eQ1YBkS4MV8L"
      },
      "source": [
        "## Or Create a chat"
      ]
    },
    {
      "cell_type": "code",
      "execution_count": null,
      "metadata": {
        "id": "aOd-4IHUqx4R"
      },
      "outputs": [],
      "source": [
        "gemini = genai.GenerativeModel(\n",
        "    model_name=model,\n",
        "    generation_config=generation_config,\n",
        "    safety_settings=safety_settings,\n",
        ")"
      ]
    },
    {
      "cell_type": "markdown",
      "metadata": {
        "id": "nOPCBs2grsIt"
      },
      "source": [
        "A `ChatSession`, should always end with the model's turn.\n",
        "\n",
        "So before creating the `chat` check whos turn was last.\n",
        "\n",
        "If the user was last, attach all but the last content as the `history` and send the last content with `send_message` to get the model's response.\n",
        "\n",
        "If the model was last, put the whole contents list in the history."
      ]
    },
    {
      "cell_type": "code",
      "execution_count": null,
      "metadata": {
        "id": "aIbdDOeFqyiE"
      },
      "outputs": [],
      "source": [
        "model_turn = contents[-1].get(\"role\", None) == \"user\"\n",
        "\n",
        "if model_turn:\n",
        "    chat = gemini.start_chat(history=contents[:-1])\n",
        "\n",
        "    response = chat.send_message(contents[-1])\n",
        "\n",
        "    if generation_config.get(\"candidate_count\", 1) == 1:\n",
        "        display(Markdown(response.text))\n",
        "else:\n",
        "    chat = gemini.start_chat(history=contents)"
      ]
    },
    {
      "cell_type": "code",
      "execution_count": null,
      "metadata": {
        "id": "5gWBb5UtOL5M"
      },
      "outputs": [],
      "source": [
        "if model_turn:\n",
        "    response.candidates"
      ]
    },
    {
      "cell_type": "markdown",
      "metadata": {
        "id": "gdz66HVvsnRc"
      },
      "source": [
        "After that use `send_message` to continue the conversation."
      ]
    },
    {
      "cell_type": "code",
      "execution_count": null,
      "metadata": {
        "id": "nb87HPvBrx29"
      },
      "outputs": [],
      "source": [
        "# response = chat.send_message(\"Interesting, tell me more.\")\n",
        "# display(Markdown(response.text))"
      ]
    }
  ],
  "metadata": {
    "colab": {
      "collapsed_sections": [
        "Tce3stUlHN0L"
      ],
      "name": "aistudio_gemini_prompt_freeform.ipynb",
      "provenance": [],
      "include_colab_link": true
    },
    "kernelspec": {
      "display_name": "Python 3",
      "name": "python3"
    }
  },
  "nbformat": 4,
  "nbformat_minor": 0
}